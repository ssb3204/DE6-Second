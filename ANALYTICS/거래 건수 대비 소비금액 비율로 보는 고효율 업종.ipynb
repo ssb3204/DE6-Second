{
  "cells": [
    {
      "cell_type": "code",
      "execution_count": null,
      "metadata": {},
      "outputs": [],
      "source": [
        "%%sql\n",
        "\n",
        "CREATE TABLE analytics.high_efficiency_category AS\n",
        "SELECT\n",
        "  card_tpbuz_nm_1,\n",
        "  card_tpbuz_nm_2,\n",
        "  SUM(amt) AS total_amt,\n",
        "  SUM(cnt) AS total_cnt,\n",
        "  ROUND(SUM(amt)::FLOAT / NULLIF(SUM(cnt), 0), 2) AS avg_amt_per_txn,\n",
        "  RANK() OVER (ORDER BY ROUND(SUM(amt)::FLOAT / NULLIF(SUM(cnt), 0), 2) DESC) AS efficiency_rank\n",
        "FROM raw_data.card_transaction\n",
        "GROUP BY card_tpbuz_nm_1, card_tpbuz_nm_2\n",
        "ORDER BY avg_amt_per_txn DESC;\n"
      ]
    },
    {
      "cell_type": "code",
      "execution_count": null,
      "metadata": {},
      "outputs": [],
      "source": [
        "%%sql\n",
        "\n",
        "CREATE TABLE analytics.efficient_category_gender_analysis AS\n",
        "SELECT\n",
        "  h.card_tpbuz_nm_1,\n",
        "  h.card_tpbuz_nm_2,\n",
        "  g.sex,\n",
        "  g.total_amt,\n",
        "  g.total_cnt,\n",
        "  g.avg_amt_per_txn\n",
        "FROM analytics.high_efficiency_category h\n",
        "JOIN analytics.gender_industry_spending_stats g\n",
        "  ON h.card_tpbuz_nm_1 = g.card_tpbuz_nm_1\n",
        " AND h.card_tpbuz_nm_2 = g.card_tpbuz_nm_2\n",
        "WHERE h.efficiency_rank <= 10;\n"
      ]
    },
    {
      "cell_type": "code",
      "execution_count": 1,
      "metadata": {},
      "outputs": [
        {
          "name": "stderr",
          "output_type": "stream",
          "text": [
            "UsageError: Cell magic `%%sql` not found.\n"
          ]
        }
      ],
      "source": [
        "%%sql\n",
        "\n",
        "CREATE TABLE analytics.efficient_category_monthly_trend AS\n",
        "SELECT\n",
        "  h.card_tpbuz_nm_1,\n",
        "  h.card_tpbuz_nm_2,\n",
        "  m.month,\n",
        "  m.total_amt,\n",
        "  m.total_cnt,\n",
        "  m.avg_unit_price\n",
        "FROM analytics.high_efficiency_category h\n",
        "JOIN analytics.monthly_sales_by_industry m\n",
        "  ON h.card_tpbuz_nm_1 = m.card_tpbuz_nm_1\n",
        " AND h.card_tpbuz_nm_2 = m.card_tpbuz_nm_2\n",
        "WHERE h.efficiency_rank <= 10;\n"
      ]
    },
    {
      "cell_type": "code",
      "execution_count": null,
      "metadata": {},
      "outputs": [],
      "source": [
        "%%sql\n",
        "\n",
        "-- F → 여성\n",
        "UPDATE analytics.efficient_category_gender_analysis\n",
        "SET sex = '여성'\n",
        "WHERE sex = 'F';\n",
        "\n",
        "-- M → 남성\n",
        "UPDATE analytics.efficient_category_gender_analysis\n",
        "SET sex = '남성'\n",
        "WHERE sex = 'M';"
      ]
    }
  ],
  "metadata": {
    "colab": {
      "provenance": []
    },
    "kernelspec": {
      "display_name": "Python 3",
      "name": "python3"
    },
    "language_info": {
      "codemirror_mode": {
        "name": "ipython",
        "version": 3
      },
      "file_extension": ".py",
      "mimetype": "text/x-python",
      "name": "python",
      "nbconvert_exporter": "python",
      "pygments_lexer": "ipython3",
      "version": "3.13.3"
    }
  },
  "nbformat": 4,
  "nbformat_minor": 0
}
