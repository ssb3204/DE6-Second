{
  "cells": [
    {
      "cell_type": "code",
      "execution_count": null,
      "metadata": {},
      "outputs": [],
      "source": [
        "%%sql\n",
        "\n",
        "CREATE TABLE analytics.high_efficiency_category AS\n",
        "SELECT\n",
        "  card_tpbuz_nm_1,\n",
        "  card_tpbuz_nm_2,\n",
        "  SUM(amt) AS total_amt,\n",
        "  SUM(cnt) AS total_cnt,\n",
        "  ROUND(SUM(amt)::FLOAT / NULLIF(SUM(cnt), 0), 2) AS avg_amt_per_txn,\n",
        "  RANK() OVER (ORDER BY ROUND(SUM(amt)::FLOAT / NULLIF(SUM(cnt), 0), 2) DESC) AS efficiency_rank\n",
        "FROM raw_data.card_transaction\n",
        "GROUP BY card_tpbuz_nm_1, card_tpbuz_nm_2\n",
        "ORDER BY avg_amt_per_txn DESC;\n"
      ]
    },
    {
      "cell_type": "code",
      "execution_count": null,
      "metadata": {},
      "outputs": [],
      "source": [
        "%%sql\n",
        "\n",
        "CREATE TABLE analytics.efficient_category_gender_analysis AS\n",
        "SELECT\n",
        "  h.card_tpbuz_nm_1,\n",
        "  h.card_tpbuz_nm_2,\n",
        "  g.sex,\n",
        "  g.total_amt,\n",
        "  g.total_cnt,\n",
        "  g.avg_amt_per_txn\n",
        "FROM analytics.high_efficiency_category h\n",
        "JOIN analytics.gender_industry_spending_stats g\n",
        "  ON h.card_tpbuz_nm_1 = g.card_tpbuz_nm_1\n",
        " AND h.card_tpbuz_nm_2 = g.card_tpbuz_nm_2\n",
        "WHERE h.efficiency_rank <= 10;\n"
      ]
    },
    {
      "cell_type": "code",
      "execution_count": null,
      "metadata": {},
      "outputs": [],
      "source": [
        "%%sql\n",
        "\n",
        "CREATE TABLE analytics.efficient_category_monthly_trend AS\n",
        "SELECT\n",
        "  h.card_tpbuz_nm_1,\n",
        "  h.card_tpbuz_nm_2,\n",
        "  m.month,\n",
        "  m.total_amt,\n",
        "  m.total_cnt,\n",
        "  m.avg_unit_price\n",
        "FROM analytics.high_efficiency_category h\n",
        "JOIN analytics.monthly_sales_by_industry m\n",
        "  ON h.card_tpbuz_nm_1 = m.card_tpbuz_nm_1\n",
        " AND h.card_tpbuz_nm_2 = m.card_tpbuz_nm_2\n",
        "WHERE h.efficiency_rank <= 10;\n"
      ]
    }
  ],
  "metadata": {
    "colab": {
      "provenance": []
    },
    "kernelspec": {
      "display_name": "Python 3",
      "name": "python3"
    },
    "language_info": {
      "name": "python"
    }
  },
  "nbformat": 4,
  "nbformat_minor": 0
}
