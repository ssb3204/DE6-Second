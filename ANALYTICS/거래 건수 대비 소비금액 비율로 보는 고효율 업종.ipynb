{
  "cells": [
    {
      "cell_type": "code",
      "execution_count": null,
      "metadata": {},
      "outputs": [],
      "source": [
        "%%sql\n",
        "\n",
        "CREATE TABLE analytics.high_efficiency_category AS\n",
        "SELECT\n",
        "  card_tpbuz_nm_1,\n",
        "  card_tpbuz_nm_2,\n",
        "  SUM(amt) AS total_amt,\n",
        "  SUM(cnt) AS total_cnt,\n",
        "  ROUND(SUM(amt)::FLOAT / NULLIF(SUM(cnt), 0), 2) AS avg_amt_per_txn,\n",
        "  RANK() OVER (ORDER BY ROUND(SUM(amt)::FLOAT / NULLIF(SUM(cnt), 0), 2) DESC) AS efficiency_rank\n",
        "FROM raw_data.card_transaction\n",
        "GROUP BY card_tpbuz_nm_1, card_tpbuz_nm_2\n",
        "ORDER BY avg_amt_per_txn DESC;\n"
      ]
    }
  ],
  "metadata": {
    "colab": {
      "provenance": []
    },
    "kernelspec": {
      "display_name": "Python 3",
      "name": "python3"
    },
    "language_info": {
      "name": "python"
    }
  },
  "nbformat": 4,
  "nbformat_minor": 0
}
